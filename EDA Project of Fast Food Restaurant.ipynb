{
 "cells": [
  {
   "cell_type": "markdown",
   "id": "b68b42bd",
   "metadata": {},
   "source": [
    "# EDA for Fast Food Restro Dataset\n",
    "\n",
    "# Importing Libs"
   ]
  },
  {
   "cell_type": "code",
   "execution_count": 4,
   "id": "64ef89a1",
   "metadata": {},
   "outputs": [],
   "source": [
    "import pandas_profiling\n",
    "import numpy as np\n",
    "import pandas as pd\n",
    "import matplotlib.pyplot as plt\n",
    "import seaborn as sns"
   ]
  },
  {
   "cell_type": "markdown",
   "id": "8a0efd1b",
   "metadata": {},
   "source": [
    "# Loading Dataset"
   ]
  },
  {
   "cell_type": "code",
   "execution_count": 5,
   "id": "ecabca58",
   "metadata": {},
   "outputs": [],
   "source": [
    "df=pd.read_csv(\"fastfood.csv\")"
   ]
  },
  {
   "cell_type": "code",
   "execution_count": 6,
   "id": "8e21e0ac",
   "metadata": {},
   "outputs": [
    {
     "data": {
      "text/html": [
       "<div>\n",
       "<style scoped>\n",
       "    .dataframe tbody tr th:only-of-type {\n",
       "        vertical-align: middle;\n",
       "    }\n",
       "\n",
       "    .dataframe tbody tr th {\n",
       "        vertical-align: top;\n",
       "    }\n",
       "\n",
       "    .dataframe thead th {\n",
       "        text-align: right;\n",
       "    }\n",
       "</style>\n",
       "<table border=\"1\" class=\"dataframe\">\n",
       "  <thead>\n",
       "    <tr style=\"text-align: right;\">\n",
       "      <th></th>\n",
       "      <th>Item</th>\n",
       "      <th>Date</th>\n",
       "      <th>Quantity</th>\n",
       "      <th>Unit_Cost</th>\n",
       "      <th>Basic_Cost</th>\n",
       "      <th>Delivery_Cost</th>\n",
       "      <th>Net_Cost</th>\n",
       "      <th>Basic_Selling_Price</th>\n",
       "      <th>Discount</th>\n",
       "      <th>Selling_Price</th>\n",
       "      <th>Tax</th>\n",
       "      <th>Cash _Received</th>\n",
       "      <th>Profit</th>\n",
       "    </tr>\n",
       "  </thead>\n",
       "  <tbody>\n",
       "    <tr>\n",
       "      <th>0</th>\n",
       "      <td>Soft Drink</td>\n",
       "      <td>01-Jan-11</td>\n",
       "      <td>17</td>\n",
       "      <td>110</td>\n",
       "      <td>1870</td>\n",
       "      <td>120</td>\n",
       "      <td>1990</td>\n",
       "      <td>2587</td>\n",
       "      <td>129.35</td>\n",
       "      <td>2457.65</td>\n",
       "      <td>417.8005</td>\n",
       "      <td>2875.4505</td>\n",
       "      <td>467.65</td>\n",
       "    </tr>\n",
       "    <tr>\n",
       "      <th>1</th>\n",
       "      <td>Hot Wings</td>\n",
       "      <td>01-Jan-11</td>\n",
       "      <td>3</td>\n",
       "      <td>390</td>\n",
       "      <td>1170</td>\n",
       "      <td>120</td>\n",
       "      <td>1290</td>\n",
       "      <td>1677</td>\n",
       "      <td>83.85</td>\n",
       "      <td>1593.15</td>\n",
       "      <td>270.8355</td>\n",
       "      <td>1863.9855</td>\n",
       "      <td>303.15</td>\n",
       "    </tr>\n",
       "    <tr>\n",
       "      <th>2</th>\n",
       "      <td>Pizza Twister</td>\n",
       "      <td>01-Jan-11</td>\n",
       "      <td>8</td>\n",
       "      <td>350</td>\n",
       "      <td>2800</td>\n",
       "      <td>100</td>\n",
       "      <td>2900</td>\n",
       "      <td>3770</td>\n",
       "      <td>0.00</td>\n",
       "      <td>3770.00</td>\n",
       "      <td>640.9000</td>\n",
       "      <td>4410.9000</td>\n",
       "      <td>870.00</td>\n",
       "    </tr>\n",
       "    <tr>\n",
       "      <th>3</th>\n",
       "      <td>Hot Wings</td>\n",
       "      <td>01-Jan-11</td>\n",
       "      <td>2</td>\n",
       "      <td>390</td>\n",
       "      <td>780</td>\n",
       "      <td>120</td>\n",
       "      <td>900</td>\n",
       "      <td>1170</td>\n",
       "      <td>0.00</td>\n",
       "      <td>1170.00</td>\n",
       "      <td>198.9000</td>\n",
       "      <td>1368.9000</td>\n",
       "      <td>270.00</td>\n",
       "    </tr>\n",
       "    <tr>\n",
       "      <th>4</th>\n",
       "      <td>Xtreme Box</td>\n",
       "      <td>01-Jan-11</td>\n",
       "      <td>4</td>\n",
       "      <td>1050</td>\n",
       "      <td>4200</td>\n",
       "      <td>100</td>\n",
       "      <td>4300</td>\n",
       "      <td>5590</td>\n",
       "      <td>0.00</td>\n",
       "      <td>5590.00</td>\n",
       "      <td>950.3000</td>\n",
       "      <td>6540.3000</td>\n",
       "      <td>1290.00</td>\n",
       "    </tr>\n",
       "  </tbody>\n",
       "</table>\n",
       "</div>"
      ],
      "text/plain": [
       "            Item       Date  Quantity  Unit_Cost  Basic_Cost   Delivery_Cost  \\\n",
       "0    Soft Drink   01-Jan-11        17        110         1870            120   \n",
       "1     Hot Wings   01-Jan-11         3        390         1170            120   \n",
       "2  Pizza Twister  01-Jan-11         8        350         2800            100   \n",
       "3     Hot Wings   01-Jan-11         2        390          780            120   \n",
       "4     Xtreme Box  01-Jan-11         4       1050         4200            100   \n",
       "\n",
       "   Net_Cost   Basic_Selling_Price  Discount  Selling_Price       Tax  \\\n",
       "0       1990                 2587    129.35        2457.65  417.8005   \n",
       "1       1290                 1677     83.85        1593.15  270.8355   \n",
       "2       2900                 3770      0.00        3770.00  640.9000   \n",
       "3        900                 1170      0.00        1170.00  198.9000   \n",
       "4       4300                 5590      0.00        5590.00  950.3000   \n",
       "\n",
       "   Cash _Received   Profit  \n",
       "0       2875.4505   467.65  \n",
       "1       1863.9855   303.15  \n",
       "2       4410.9000   870.00  \n",
       "3       1368.9000   270.00  \n",
       "4       6540.3000  1290.00  "
      ]
     },
     "execution_count": 6,
     "metadata": {},
     "output_type": "execute_result"
    }
   ],
   "source": [
    "df.head()"
   ]
  },
  {
   "cell_type": "markdown",
   "id": "546069ac",
   "metadata": {},
   "source": [
    "# Exploratory Data Analysis"
   ]
  },
  {
   "cell_type": "code",
   "execution_count": 7,
   "id": "f299c06c",
   "metadata": {},
   "outputs": [
    {
     "name": "stdout",
     "output_type": "stream",
     "text": [
      "<class 'pandas.core.frame.DataFrame'>\n",
      "RangeIndex: 75630 entries, 0 to 75629\n",
      "Data columns (total 13 columns):\n",
      " #   Column               Non-Null Count  Dtype  \n",
      "---  ------               --------------  -----  \n",
      " 0   Item                 75630 non-null  object \n",
      " 1   Date                 75630 non-null  object \n",
      " 2   Quantity             75630 non-null  int64  \n",
      " 3   Unit_Cost            75630 non-null  int64  \n",
      " 4   Basic_Cost           75630 non-null  int64  \n",
      " 5   Delivery_Cost        75630 non-null  int64  \n",
      " 6   Net_Cost             75630 non-null  int64  \n",
      " 7   Basic_Selling_Price  75630 non-null  int64  \n",
      " 8   Discount             75630 non-null  float64\n",
      " 9   Selling_Price        75630 non-null  float64\n",
      " 10  Tax                  75630 non-null  float64\n",
      " 11  Cash _Received       75630 non-null  float64\n",
      " 12  Profit               75630 non-null  float64\n",
      "dtypes: float64(5), int64(6), object(2)\n",
      "memory usage: 7.5+ MB\n"
     ]
    }
   ],
   "source": [
    "df.info()"
   ]
  },
  {
   "cell_type": "code",
   "execution_count": 9,
   "id": "9a4c3768",
   "metadata": {},
   "outputs": [
    {
     "data": {
      "text/plain": [
       "(75630, 13)"
      ]
     },
     "execution_count": 9,
     "metadata": {},
     "output_type": "execute_result"
    }
   ],
   "source": [
    "df.shape    #shows no missing values"
   ]
  },
  {
   "cell_type": "code",
   "execution_count": 10,
   "id": "e92d2b44",
   "metadata": {},
   "outputs": [
    {
     "data": {
      "text/plain": [
       "Index(['Item', 'Date', 'Quantity', 'Unit_Cost', 'Basic_Cost ', 'Delivery_Cost',\n",
       "       'Net_Cost ', 'Basic_Selling_Price', 'Discount', 'Selling_Price', 'Tax',\n",
       "       'Cash _Received', 'Profit'],\n",
       "      dtype='object')"
      ]
     },
     "execution_count": 10,
     "metadata": {},
     "output_type": "execute_result"
    }
   ],
   "source": [
    "df.columns"
   ]
  },
  {
   "cell_type": "code",
   "execution_count": 11,
   "id": "3803ac6b",
   "metadata": {},
   "outputs": [
    {
     "data": {
      "text/plain": [
       "Item                   0\n",
       "Date                   0\n",
       "Quantity               0\n",
       "Unit_Cost              0\n",
       "Basic_Cost             0\n",
       "Delivery_Cost          0\n",
       "Net_Cost               0\n",
       "Basic_Selling_Price    0\n",
       "Discount               0\n",
       "Selling_Price          0\n",
       "Tax                    0\n",
       "Cash _Received         0\n",
       "Profit                 0\n",
       "dtype: int64"
      ]
     },
     "execution_count": 11,
     "metadata": {},
     "output_type": "execute_result"
    }
   ],
   "source": [
    "df.isnull().sum()    #proves no missing values"
   ]
  },
  {
   "cell_type": "code",
   "execution_count": 12,
   "id": "cb4fd332",
   "metadata": {},
   "outputs": [
    {
     "data": {
      "text/html": [
       "<div>\n",
       "<style scoped>\n",
       "    .dataframe tbody tr th:only-of-type {\n",
       "        vertical-align: middle;\n",
       "    }\n",
       "\n",
       "    .dataframe tbody tr th {\n",
       "        vertical-align: top;\n",
       "    }\n",
       "\n",
       "    .dataframe thead th {\n",
       "        text-align: right;\n",
       "    }\n",
       "</style>\n",
       "<table border=\"1\" class=\"dataframe\">\n",
       "  <thead>\n",
       "    <tr style=\"text-align: right;\">\n",
       "      <th></th>\n",
       "      <th>Quantity</th>\n",
       "      <th>Unit_Cost</th>\n",
       "      <th>Basic_Cost</th>\n",
       "      <th>Delivery_Cost</th>\n",
       "      <th>Net_Cost</th>\n",
       "      <th>Basic_Selling_Price</th>\n",
       "      <th>Discount</th>\n",
       "      <th>Selling_Price</th>\n",
       "      <th>Tax</th>\n",
       "      <th>Cash _Received</th>\n",
       "      <th>Profit</th>\n",
       "    </tr>\n",
       "  </thead>\n",
       "  <tbody>\n",
       "    <tr>\n",
       "      <th>count</th>\n",
       "      <td>75630.000000</td>\n",
       "      <td>75630.000000</td>\n",
       "      <td>75630.000000</td>\n",
       "      <td>75630.000000</td>\n",
       "      <td>75630.000000</td>\n",
       "      <td>75630.000000</td>\n",
       "      <td>75630.000000</td>\n",
       "      <td>75630.000000</td>\n",
       "      <td>75630.000000</td>\n",
       "      <td>75630.000000</td>\n",
       "      <td>75630.000000</td>\n",
       "    </tr>\n",
       "    <tr>\n",
       "      <th>mean</th>\n",
       "      <td>10.629684</td>\n",
       "      <td>437.915245</td>\n",
       "      <td>4631.449160</td>\n",
       "      <td>108.158403</td>\n",
       "      <td>4739.607563</td>\n",
       "      <td>6161.489832</td>\n",
       "      <td>166.867728</td>\n",
       "      <td>5994.622104</td>\n",
       "      <td>1019.085758</td>\n",
       "      <td>7013.707861</td>\n",
       "      <td>1255.014541</td>\n",
       "    </tr>\n",
       "    <tr>\n",
       "      <th>std</th>\n",
       "      <td>5.559944</td>\n",
       "      <td>316.986423</td>\n",
       "      <td>4578.533457</td>\n",
       "      <td>9.829028</td>\n",
       "      <td>4578.239994</td>\n",
       "      <td>5951.711992</td>\n",
       "      <td>281.994141</td>\n",
       "      <td>5767.503362</td>\n",
       "      <td>980.475572</td>\n",
       "      <td>6747.978934</td>\n",
       "      <td>1203.916507</td>\n",
       "    </tr>\n",
       "    <tr>\n",
       "      <th>min</th>\n",
       "      <td>1.000000</td>\n",
       "      <td>0.000000</td>\n",
       "      <td>0.000000</td>\n",
       "      <td>100.000000</td>\n",
       "      <td>100.000000</td>\n",
       "      <td>130.000000</td>\n",
       "      <td>0.000000</td>\n",
       "      <td>123.500000</td>\n",
       "      <td>20.995000</td>\n",
       "      <td>144.495000</td>\n",
       "      <td>23.500000</td>\n",
       "    </tr>\n",
       "    <tr>\n",
       "      <th>25%</th>\n",
       "      <td>6.000000</td>\n",
       "      <td>250.000000</td>\n",
       "      <td>1650.000000</td>\n",
       "      <td>100.000000</td>\n",
       "      <td>1750.000000</td>\n",
       "      <td>2275.000000</td>\n",
       "      <td>0.000000</td>\n",
       "      <td>2262.000000</td>\n",
       "      <td>384.540000</td>\n",
       "      <td>2646.540000</td>\n",
       "      <td>462.000000</td>\n",
       "    </tr>\n",
       "    <tr>\n",
       "      <th>50%</th>\n",
       "      <td>11.000000</td>\n",
       "      <td>350.000000</td>\n",
       "      <td>3520.000000</td>\n",
       "      <td>100.000000</td>\n",
       "      <td>3640.000000</td>\n",
       "      <td>4732.000000</td>\n",
       "      <td>31.850000</td>\n",
       "      <td>4680.000000</td>\n",
       "      <td>795.600000</td>\n",
       "      <td>5475.600000</td>\n",
       "      <td>982.300000</td>\n",
       "    </tr>\n",
       "    <tr>\n",
       "      <th>75%</th>\n",
       "      <td>15.000000</td>\n",
       "      <td>510.000000</td>\n",
       "      <td>5850.000000</td>\n",
       "      <td>120.000000</td>\n",
       "      <td>5950.000000</td>\n",
       "      <td>7735.000000</td>\n",
       "      <td>256.100000</td>\n",
       "      <td>7582.900000</td>\n",
       "      <td>1289.093000</td>\n",
       "      <td>8871.993000</td>\n",
       "      <td>1586.250000</td>\n",
       "    </tr>\n",
       "    <tr>\n",
       "      <th>max</th>\n",
       "      <td>45.000000</td>\n",
       "      <td>1600.000000</td>\n",
       "      <td>40500.000000</td>\n",
       "      <td>120.000000</td>\n",
       "      <td>40600.000000</td>\n",
       "      <td>52780.000000</td>\n",
       "      <td>2639.000000</td>\n",
       "      <td>50141.000000</td>\n",
       "      <td>8523.970000</td>\n",
       "      <td>58664.970000</td>\n",
       "      <td>9636.000000</td>\n",
       "    </tr>\n",
       "  </tbody>\n",
       "</table>\n",
       "</div>"
      ],
      "text/plain": [
       "           Quantity     Unit_Cost   Basic_Cost   Delivery_Cost     Net_Cost   \\\n",
       "count  75630.000000  75630.000000  75630.000000   75630.000000  75630.000000   \n",
       "mean      10.629684    437.915245   4631.449160     108.158403   4739.607563   \n",
       "std        5.559944    316.986423   4578.533457       9.829028   4578.239994   \n",
       "min        1.000000      0.000000      0.000000     100.000000    100.000000   \n",
       "25%        6.000000    250.000000   1650.000000     100.000000   1750.000000   \n",
       "50%       11.000000    350.000000   3520.000000     100.000000   3640.000000   \n",
       "75%       15.000000    510.000000   5850.000000     120.000000   5950.000000   \n",
       "max       45.000000   1600.000000  40500.000000     120.000000  40600.000000   \n",
       "\n",
       "       Basic_Selling_Price      Discount  Selling_Price           Tax  \\\n",
       "count         75630.000000  75630.000000   75630.000000  75630.000000   \n",
       "mean           6161.489832    166.867728    5994.622104   1019.085758   \n",
       "std            5951.711992    281.994141    5767.503362    980.475572   \n",
       "min             130.000000      0.000000     123.500000     20.995000   \n",
       "25%            2275.000000      0.000000    2262.000000    384.540000   \n",
       "50%            4732.000000     31.850000    4680.000000    795.600000   \n",
       "75%            7735.000000    256.100000    7582.900000   1289.093000   \n",
       "max           52780.000000   2639.000000   50141.000000   8523.970000   \n",
       "\n",
       "       Cash _Received        Profit  \n",
       "count    75630.000000  75630.000000  \n",
       "mean      7013.707861   1255.014541  \n",
       "std       6747.978934   1203.916507  \n",
       "min        144.495000     23.500000  \n",
       "25%       2646.540000    462.000000  \n",
       "50%       5475.600000    982.300000  \n",
       "75%       8871.993000   1586.250000  \n",
       "max      58664.970000   9636.000000  "
      ]
     },
     "execution_count": 12,
     "metadata": {},
     "output_type": "execute_result"
    }
   ],
   "source": [
    "df.describe()"
   ]
  },
  {
   "cell_type": "markdown",
   "id": "eff84065",
   "metadata": {},
   "source": [
    "# Statistical Analysis"
   ]
  },
  {
   "cell_type": "code",
   "execution_count": 13,
   "id": "a5ddeb59",
   "metadata": {},
   "outputs": [
    {
     "data": {
      "text/html": [
       "<div>\n",
       "<style scoped>\n",
       "    .dataframe tbody tr th:only-of-type {\n",
       "        vertical-align: middle;\n",
       "    }\n",
       "\n",
       "    .dataframe tbody tr th {\n",
       "        vertical-align: top;\n",
       "    }\n",
       "\n",
       "    .dataframe thead th {\n",
       "        text-align: right;\n",
       "    }\n",
       "</style>\n",
       "<table border=\"1\" class=\"dataframe\">\n",
       "  <thead>\n",
       "    <tr style=\"text-align: right;\">\n",
       "      <th></th>\n",
       "      <th>Item</th>\n",
       "      <th>Date</th>\n",
       "    </tr>\n",
       "  </thead>\n",
       "  <tbody>\n",
       "    <tr>\n",
       "      <th>count</th>\n",
       "      <td>75630</td>\n",
       "      <td>75630</td>\n",
       "    </tr>\n",
       "    <tr>\n",
       "      <th>unique</th>\n",
       "      <td>19</td>\n",
       "      <td>1096</td>\n",
       "    </tr>\n",
       "    <tr>\n",
       "      <th>top</th>\n",
       "      <td>Mid Night Deal</td>\n",
       "      <td>20-Feb-12</td>\n",
       "    </tr>\n",
       "    <tr>\n",
       "      <th>freq</th>\n",
       "      <td>8325</td>\n",
       "      <td>135</td>\n",
       "    </tr>\n",
       "  </tbody>\n",
       "</table>\n",
       "</div>"
      ],
      "text/plain": [
       "                   Item       Date\n",
       "count             75630      75630\n",
       "unique               19       1096\n",
       "top     Mid Night Deal   20-Feb-12\n",
       "freq               8325        135"
      ]
     },
     "execution_count": 13,
     "metadata": {},
     "output_type": "execute_result"
    }
   ],
   "source": [
    "df.describe(include=['object'])"
   ]
  },
  {
   "cell_type": "code",
   "execution_count": 19,
   "id": "e163642e",
   "metadata": {},
   "outputs": [
    {
     "data": {
      "text/html": [
       "<div>\n",
       "<style scoped>\n",
       "    .dataframe tbody tr th:only-of-type {\n",
       "        vertical-align: middle;\n",
       "    }\n",
       "\n",
       "    .dataframe tbody tr th {\n",
       "        vertical-align: top;\n",
       "    }\n",
       "\n",
       "    .dataframe thead th {\n",
       "        text-align: right;\n",
       "    }\n",
       "</style>\n",
       "<table border=\"1\" class=\"dataframe\">\n",
       "  <thead>\n",
       "    <tr style=\"text-align: right;\">\n",
       "      <th></th>\n",
       "      <th>0</th>\n",
       "    </tr>\n",
       "  </thead>\n",
       "  <tbody>\n",
       "    <tr>\n",
       "      <th>0</th>\n",
       "      <td>Soft Drink</td>\n",
       "    </tr>\n",
       "    <tr>\n",
       "      <th>1</th>\n",
       "      <td>Hot Wings</td>\n",
       "    </tr>\n",
       "    <tr>\n",
       "      <th>2</th>\n",
       "      <td>Pizza Twister</td>\n",
       "    </tr>\n",
       "    <tr>\n",
       "      <th>3</th>\n",
       "      <td>Xtreme Box</td>\n",
       "    </tr>\n",
       "    <tr>\n",
       "      <th>4</th>\n",
       "      <td>Mid Night Deal</td>\n",
       "    </tr>\n",
       "    <tr>\n",
       "      <th>5</th>\n",
       "      <td>Bucket of Fries</td>\n",
       "    </tr>\n",
       "    <tr>\n",
       "      <th>6</th>\n",
       "      <td>Nuggests</td>\n",
       "    </tr>\n",
       "    <tr>\n",
       "      <th>7</th>\n",
       "      <td>Chicky Meal</td>\n",
       "    </tr>\n",
       "    <tr>\n",
       "      <th>8</th>\n",
       "      <td>Boneless Box</td>\n",
       "    </tr>\n",
       "    <tr>\n",
       "      <th>9</th>\n",
       "      <td>Value Box</td>\n",
       "    </tr>\n",
       "    <tr>\n",
       "      <th>10</th>\n",
       "      <td>Zinger Burger</td>\n",
       "    </tr>\n",
       "    <tr>\n",
       "      <th>11</th>\n",
       "      <td>Zinger Combo</td>\n",
       "    </tr>\n",
       "    <tr>\n",
       "      <th>12</th>\n",
       "      <td>chicken Piece</td>\n",
       "    </tr>\n",
       "    <tr>\n",
       "      <th>13</th>\n",
       "      <td>Duo Box</td>\n",
       "    </tr>\n",
       "    <tr>\n",
       "      <th>14</th>\n",
       "      <td>Arabian Rice</td>\n",
       "    </tr>\n",
       "    <tr>\n",
       "      <th>15</th>\n",
       "      <td>Mineral Water</td>\n",
       "    </tr>\n",
       "    <tr>\n",
       "      <th>16</th>\n",
       "      <td>Super Spicy Burger</td>\n",
       "    </tr>\n",
       "    <tr>\n",
       "      <th>17</th>\n",
       "      <td>Value Burger</td>\n",
       "    </tr>\n",
       "    <tr>\n",
       "      <th>18</th>\n",
       "      <td>Family Festival</td>\n",
       "    </tr>\n",
       "  </tbody>\n",
       "</table>\n",
       "</div>"
      ],
      "text/plain": [
       "                     0\n",
       "0          Soft Drink \n",
       "1           Hot Wings \n",
       "2        Pizza Twister\n",
       "3           Xtreme Box\n",
       "4      Mid Night Deal \n",
       "5      Bucket of Fries\n",
       "6             Nuggests\n",
       "7         Chicky Meal \n",
       "8         Boneless Box\n",
       "9            Value Box\n",
       "10       Zinger Burger\n",
       "11        Zinger Combo\n",
       "12       chicken Piece\n",
       "13             Duo Box\n",
       "14        Arabian Rice\n",
       "15       Mineral Water\n",
       "16  Super Spicy Burger\n",
       "17        Value Burger\n",
       "18     Family Festival"
      ]
     },
     "execution_count": 19,
     "metadata": {},
     "output_type": "execute_result"
    }
   ],
   "source": [
    "unique_items=pd.DataFrame(df['Item'].unique())\n",
    "unique_items"
   ]
  },
  {
   "cell_type": "code",
   "execution_count": 20,
   "id": "cfb42129",
   "metadata": {},
   "outputs": [
    {
     "data": {
      "text/html": [
       "<div>\n",
       "<style scoped>\n",
       "    .dataframe tbody tr th:only-of-type {\n",
       "        vertical-align: middle;\n",
       "    }\n",
       "\n",
       "    .dataframe tbody tr th {\n",
       "        vertical-align: top;\n",
       "    }\n",
       "\n",
       "    .dataframe thead th {\n",
       "        text-align: right;\n",
       "    }\n",
       "</style>\n",
       "<table border=\"1\" class=\"dataframe\">\n",
       "  <thead>\n",
       "    <tr style=\"text-align: right;\">\n",
       "      <th></th>\n",
       "      <th>0</th>\n",
       "    </tr>\n",
       "  </thead>\n",
       "  <tbody>\n",
       "    <tr>\n",
       "      <th>0</th>\n",
       "      <td>Soft Drink</td>\n",
       "    </tr>\n",
       "    <tr>\n",
       "      <th>1</th>\n",
       "      <td>Hot Wings</td>\n",
       "    </tr>\n",
       "    <tr>\n",
       "      <th>2</th>\n",
       "      <td>Pizza Twister</td>\n",
       "    </tr>\n",
       "    <tr>\n",
       "      <th>3</th>\n",
       "      <td>Xtreme Box</td>\n",
       "    </tr>\n",
       "    <tr>\n",
       "      <th>4</th>\n",
       "      <td>Mid Night Deal</td>\n",
       "    </tr>\n",
       "    <tr>\n",
       "      <th>5</th>\n",
       "      <td>Bucket of Fries</td>\n",
       "    </tr>\n",
       "    <tr>\n",
       "      <th>6</th>\n",
       "      <td>Nuggests</td>\n",
       "    </tr>\n",
       "    <tr>\n",
       "      <th>7</th>\n",
       "      <td>Chicky Meal</td>\n",
       "    </tr>\n",
       "    <tr>\n",
       "      <th>8</th>\n",
       "      <td>Boneless Box</td>\n",
       "    </tr>\n",
       "    <tr>\n",
       "      <th>9</th>\n",
       "      <td>Value Box</td>\n",
       "    </tr>\n",
       "    <tr>\n",
       "      <th>10</th>\n",
       "      <td>Zinger Burger</td>\n",
       "    </tr>\n",
       "    <tr>\n",
       "      <th>11</th>\n",
       "      <td>Zinger Combo</td>\n",
       "    </tr>\n",
       "    <tr>\n",
       "      <th>12</th>\n",
       "      <td>chicken Piece</td>\n",
       "    </tr>\n",
       "    <tr>\n",
       "      <th>13</th>\n",
       "      <td>Duo Box</td>\n",
       "    </tr>\n",
       "    <tr>\n",
       "      <th>14</th>\n",
       "      <td>Arabian Rice</td>\n",
       "    </tr>\n",
       "    <tr>\n",
       "      <th>15</th>\n",
       "      <td>Mineral Water</td>\n",
       "    </tr>\n",
       "    <tr>\n",
       "      <th>16</th>\n",
       "      <td>Super Spicy Burger</td>\n",
       "    </tr>\n",
       "    <tr>\n",
       "      <th>17</th>\n",
       "      <td>Value Burger</td>\n",
       "    </tr>\n",
       "    <tr>\n",
       "      <th>18</th>\n",
       "      <td>Family Festival</td>\n",
       "    </tr>\n",
       "  </tbody>\n",
       "</table>\n",
       "</div>"
      ],
      "text/plain": [
       "                     0\n",
       "0           Soft Drink\n",
       "1            Hot Wings\n",
       "2        Pizza Twister\n",
       "3           Xtreme Box\n",
       "4       Mid Night Deal\n",
       "5      Bucket of Fries\n",
       "6             Nuggests\n",
       "7          Chicky Meal\n",
       "8         Boneless Box\n",
       "9            Value Box\n",
       "10       Zinger Burger\n",
       "11        Zinger Combo\n",
       "12       chicken Piece\n",
       "13             Duo Box\n",
       "14        Arabian Rice\n",
       "15       Mineral Water\n",
       "16  Super Spicy Burger\n",
       "17        Value Burger\n",
       "18     Family Festival"
      ]
     },
     "execution_count": 20,
     "metadata": {},
     "output_type": "execute_result"
    }
   ],
   "source": [
    "#stripping white spaces so that there no duplicacy due to white spaces\n",
    "\n",
    "\n",
    "df['Item']=df['Item'].str.strip()\n",
    "unique_items=pd.DataFrame(df['Item'].unique())\n",
    "unique_items"
   ]
  },
  {
   "cell_type": "markdown",
   "id": "64459703",
   "metadata": {},
   "source": [
    "# Correlation between Features"
   ]
  },
  {
   "cell_type": "code",
   "execution_count": 21,
   "id": "10a431ab",
   "metadata": {},
   "outputs": [
    {
     "data": {
      "text/html": [
       "<div>\n",
       "<style scoped>\n",
       "    .dataframe tbody tr th:only-of-type {\n",
       "        vertical-align: middle;\n",
       "    }\n",
       "\n",
       "    .dataframe tbody tr th {\n",
       "        vertical-align: top;\n",
       "    }\n",
       "\n",
       "    .dataframe thead th {\n",
       "        text-align: right;\n",
       "    }\n",
       "</style>\n",
       "<table border=\"1\" class=\"dataframe\">\n",
       "  <thead>\n",
       "    <tr style=\"text-align: right;\">\n",
       "      <th></th>\n",
       "      <th>Quantity</th>\n",
       "      <th>Unit_Cost</th>\n",
       "      <th>Basic_Cost</th>\n",
       "      <th>Delivery_Cost</th>\n",
       "      <th>Net_Cost</th>\n",
       "      <th>Basic_Selling_Price</th>\n",
       "      <th>Discount</th>\n",
       "      <th>Selling_Price</th>\n",
       "      <th>Tax</th>\n",
       "      <th>Cash _Received</th>\n",
       "      <th>Profit</th>\n",
       "    </tr>\n",
       "  </thead>\n",
       "  <tbody>\n",
       "    <tr>\n",
       "      <th>Quantity</th>\n",
       "      <td>1.000000</td>\n",
       "      <td>-0.013897</td>\n",
       "      <td>0.526477</td>\n",
       "      <td>-0.038980</td>\n",
       "      <td>0.526427</td>\n",
       "      <td>0.526427</td>\n",
       "      <td>0.318810</td>\n",
       "      <td>0.527652</td>\n",
       "      <td>0.527652</td>\n",
       "      <td>0.527652</td>\n",
       "      <td>0.525892</td>\n",
       "    </tr>\n",
       "    <tr>\n",
       "      <th>Unit_Cost</th>\n",
       "      <td>-0.013897</td>\n",
       "      <td>1.000000</td>\n",
       "      <td>0.744132</td>\n",
       "      <td>-0.016496</td>\n",
       "      <td>0.744144</td>\n",
       "      <td>0.744144</td>\n",
       "      <td>0.506401</td>\n",
       "      <td>0.743151</td>\n",
       "      <td>0.743151</td>\n",
       "      <td>0.743151</td>\n",
       "      <td>0.730332</td>\n",
       "    </tr>\n",
       "    <tr>\n",
       "      <th>Basic_Cost</th>\n",
       "      <td>0.526477</td>\n",
       "      <td>0.744132</td>\n",
       "      <td>1.000000</td>\n",
       "      <td>-0.030929</td>\n",
       "      <td>0.999998</td>\n",
       "      <td>0.999998</td>\n",
       "      <td>0.667027</td>\n",
       "      <td>0.999323</td>\n",
       "      <td>0.999323</td>\n",
       "      <td>0.999323</td>\n",
       "      <td>0.984596</td>\n",
       "    </tr>\n",
       "    <tr>\n",
       "      <th>Delivery_Cost</th>\n",
       "      <td>-0.038980</td>\n",
       "      <td>-0.016496</td>\n",
       "      <td>-0.030929</td>\n",
       "      <td>1.000000</td>\n",
       "      <td>-0.028784</td>\n",
       "      <td>-0.028784</td>\n",
       "      <td>-0.117828</td>\n",
       "      <td>-0.023943</td>\n",
       "      <td>-0.023943</td>\n",
       "      <td>-0.023943</td>\n",
       "      <td>-0.005239</td>\n",
       "    </tr>\n",
       "    <tr>\n",
       "      <th>Net_Cost</th>\n",
       "      <td>0.526427</td>\n",
       "      <td>0.744144</td>\n",
       "      <td>0.999998</td>\n",
       "      <td>-0.028784</td>\n",
       "      <td>1.000000</td>\n",
       "      <td>1.000000</td>\n",
       "      <td>0.666817</td>\n",
       "      <td>0.999336</td>\n",
       "      <td>0.999336</td>\n",
       "      <td>0.999336</td>\n",
       "      <td>0.984648</td>\n",
       "    </tr>\n",
       "    <tr>\n",
       "      <th>Basic_Selling_Price</th>\n",
       "      <td>0.526427</td>\n",
       "      <td>0.744144</td>\n",
       "      <td>0.999998</td>\n",
       "      <td>-0.028784</td>\n",
       "      <td>1.000000</td>\n",
       "      <td>1.000000</td>\n",
       "      <td>0.666817</td>\n",
       "      <td>0.999336</td>\n",
       "      <td>0.999336</td>\n",
       "      <td>0.999336</td>\n",
       "      <td>0.984648</td>\n",
       "    </tr>\n",
       "    <tr>\n",
       "      <th>Discount</th>\n",
       "      <td>0.318810</td>\n",
       "      <td>0.506401</td>\n",
       "      <td>0.667027</td>\n",
       "      <td>-0.117828</td>\n",
       "      <td>0.666817</td>\n",
       "      <td>0.666817</td>\n",
       "      <td>1.000000</td>\n",
       "      <td>0.639221</td>\n",
       "      <td>0.639221</td>\n",
       "      <td>0.639221</td>\n",
       "      <td>0.526498</td>\n",
       "    </tr>\n",
       "    <tr>\n",
       "      <th>Selling_Price</th>\n",
       "      <td>0.527652</td>\n",
       "      <td>0.743151</td>\n",
       "      <td>0.999323</td>\n",
       "      <td>-0.023943</td>\n",
       "      <td>0.999336</td>\n",
       "      <td>0.999336</td>\n",
       "      <td>0.639221</td>\n",
       "      <td>1.000000</td>\n",
       "      <td>1.000000</td>\n",
       "      <td>1.000000</td>\n",
       "      <td>0.990354</td>\n",
       "    </tr>\n",
       "    <tr>\n",
       "      <th>Tax</th>\n",
       "      <td>0.527652</td>\n",
       "      <td>0.743151</td>\n",
       "      <td>0.999323</td>\n",
       "      <td>-0.023943</td>\n",
       "      <td>0.999336</td>\n",
       "      <td>0.999336</td>\n",
       "      <td>0.639221</td>\n",
       "      <td>1.000000</td>\n",
       "      <td>1.000000</td>\n",
       "      <td>1.000000</td>\n",
       "      <td>0.990354</td>\n",
       "    </tr>\n",
       "    <tr>\n",
       "      <th>Cash _Received</th>\n",
       "      <td>0.527652</td>\n",
       "      <td>0.743151</td>\n",
       "      <td>0.999323</td>\n",
       "      <td>-0.023943</td>\n",
       "      <td>0.999336</td>\n",
       "      <td>0.999336</td>\n",
       "      <td>0.639221</td>\n",
       "      <td>1.000000</td>\n",
       "      <td>1.000000</td>\n",
       "      <td>1.000000</td>\n",
       "      <td>0.990354</td>\n",
       "    </tr>\n",
       "    <tr>\n",
       "      <th>Profit</th>\n",
       "      <td>0.525892</td>\n",
       "      <td>0.730332</td>\n",
       "      <td>0.984596</td>\n",
       "      <td>-0.005239</td>\n",
       "      <td>0.984648</td>\n",
       "      <td>0.984648</td>\n",
       "      <td>0.526498</td>\n",
       "      <td>0.990354</td>\n",
       "      <td>0.990354</td>\n",
       "      <td>0.990354</td>\n",
       "      <td>1.000000</td>\n",
       "    </tr>\n",
       "  </tbody>\n",
       "</table>\n",
       "</div>"
      ],
      "text/plain": [
       "                     Quantity  Unit_Cost  Basic_Cost   Delivery_Cost  \\\n",
       "Quantity             1.000000  -0.013897     0.526477      -0.038980   \n",
       "Unit_Cost           -0.013897   1.000000     0.744132      -0.016496   \n",
       "Basic_Cost           0.526477   0.744132     1.000000      -0.030929   \n",
       "Delivery_Cost       -0.038980  -0.016496    -0.030929       1.000000   \n",
       "Net_Cost             0.526427   0.744144     0.999998      -0.028784   \n",
       "Basic_Selling_Price  0.526427   0.744144     0.999998      -0.028784   \n",
       "Discount             0.318810   0.506401     0.667027      -0.117828   \n",
       "Selling_Price        0.527652   0.743151     0.999323      -0.023943   \n",
       "Tax                  0.527652   0.743151     0.999323      -0.023943   \n",
       "Cash _Received       0.527652   0.743151     0.999323      -0.023943   \n",
       "Profit               0.525892   0.730332     0.984596      -0.005239   \n",
       "\n",
       "                     Net_Cost   Basic_Selling_Price  Discount  Selling_Price  \\\n",
       "Quantity              0.526427             0.526427  0.318810       0.527652   \n",
       "Unit_Cost             0.744144             0.744144  0.506401       0.743151   \n",
       "Basic_Cost            0.999998             0.999998  0.667027       0.999323   \n",
       "Delivery_Cost        -0.028784            -0.028784 -0.117828      -0.023943   \n",
       "Net_Cost              1.000000             1.000000  0.666817       0.999336   \n",
       "Basic_Selling_Price   1.000000             1.000000  0.666817       0.999336   \n",
       "Discount              0.666817             0.666817  1.000000       0.639221   \n",
       "Selling_Price         0.999336             0.999336  0.639221       1.000000   \n",
       "Tax                   0.999336             0.999336  0.639221       1.000000   \n",
       "Cash _Received        0.999336             0.999336  0.639221       1.000000   \n",
       "Profit                0.984648             0.984648  0.526498       0.990354   \n",
       "\n",
       "                          Tax  Cash _Received    Profit  \n",
       "Quantity             0.527652        0.527652  0.525892  \n",
       "Unit_Cost            0.743151        0.743151  0.730332  \n",
       "Basic_Cost           0.999323        0.999323  0.984596  \n",
       "Delivery_Cost       -0.023943       -0.023943 -0.005239  \n",
       "Net_Cost             0.999336        0.999336  0.984648  \n",
       "Basic_Selling_Price  0.999336        0.999336  0.984648  \n",
       "Discount             0.639221        0.639221  0.526498  \n",
       "Selling_Price        1.000000        1.000000  0.990354  \n",
       "Tax                  1.000000        1.000000  0.990354  \n",
       "Cash _Received       1.000000        1.000000  0.990354  \n",
       "Profit               0.990354        0.990354  1.000000  "
      ]
     },
     "execution_count": 21,
     "metadata": {},
     "output_type": "execute_result"
    }
   ],
   "source": [
    "df.corr()"
   ]
  },
  {
   "cell_type": "code",
   "execution_count": 35,
   "id": "7c04f9c9",
   "metadata": {},
   "outputs": [
    {
     "data": {
      "text/plain": [
       "<AxesSubplot:>"
      ]
     },
     "execution_count": 35,
     "metadata": {},
     "output_type": "execute_result"
    },
    {
     "data": {
      "image/png": "[encoded data removed]",
      "text/plain": [
       "<Figure size 864x864 with 2 Axes>"
      ]
     },
     "metadata": {
      "needs_background": "light"
     },
     "output_type": "display_data"
    }
   ],
   "source": [
    "plt.figure(figsize=(12,12))\n",
    "sns.heatmap(df.corr(), cbar=True, square=True, annot=True, annot_kws={'size':15})"
   ]
  },
  {
   "cell_type": "markdown",
   "id": "e205c2f6",
   "metadata": {},
   "source": [
    "# Data Profiling"
   ]
  },
  {
   "cell_type": "code",
   "execution_count": 37,
   "id": "a4b50962",
   "metadata": {},
   "outputs": [
    {
     "data": {
      "application/vnd.jupyter.widget-view+json": {
       "model_id": "a14636c3449a49d28c36f0778188660d",
       "version_major": 2,
       "version_minor": 0
      },
      "text/plain": [
       "Summarize dataset:   0%|          | 0/27 [00:00<?, ?it/s]"
      ]
     },
     "metadata": {},
     "output_type": "display_data"
    },
    {
     "data": {
      "application/vnd.jupyter.widget-view+json": {
       "model_id": "6ebcc15a6fea4aedbb6d5c98d424e299",
       "version_major": 2,
       "version_minor": 0
      },
      "text/plain": [
       "Generate report structure:   0%|          | 0/1 [00:00<?, ?it/s]"
      ]
     },
     "metadata": {},
     "output_type": "display_data"
    },
    {
     "data": {
      "application/vnd.jupyter.widget-view+json": {
       "model_id": "1a1282bbda8a41d592b1cea7c2d849af",
       "version_major": 2,
       "version_minor": 0
      },
      "text/plain": [
       "Render HTML:   0%|          | 0/1 [00:00<?, ?it/s]"
      ]
     },
     "metadata": {},
     "output_type": "display_data"
    },
    {
     "data": {
      "application/vnd.jupyter.widget-view+json": {
       "model_id": "d65aedc5818b4d88beac03ee5e17a331",
       "version_major": 2,
       "version_minor": 0
      },
      "text/plain": [
       "Export report to file:   0%|          | 0/1 [00:00<?, ?it/s]"
      ]
     },
     "metadata": {},
     "output_type": "display_data"
    }
   ],
   "source": [
    "profile=df.profile_report(title='Pandas Profiling Report')\n",
    "profile.to_file(output_file='profile.html')"
   ]
  },
  {
   "cell_type": "code",
   "execution_count": 38,
   "id": "94f5de3a",
   "metadata": {},
   "outputs": [
    {
     "data": {
      "text/html": [
       "<div>\n",
       "<style scoped>\n",
       "    .dataframe tbody tr th:only-of-type {\n",
       "        vertical-align: middle;\n",
       "    }\n",
       "\n",
       "    .dataframe tbody tr th {\n",
       "        vertical-align: top;\n",
       "    }\n",
       "\n",
       "    .dataframe thead th {\n",
       "        text-align: right;\n",
       "    }\n",
       "</style>\n",
       "<table border=\"1\" class=\"dataframe\">\n",
       "  <thead>\n",
       "    <tr style=\"text-align: right;\">\n",
       "      <th></th>\n",
       "      <th>Item</th>\n",
       "      <th>Date</th>\n",
       "      <th>Quantity</th>\n",
       "      <th>Unit_Cost</th>\n",
       "      <th>Basic_Cost</th>\n",
       "      <th>Delivery_Cost</th>\n",
       "      <th>Net_Cost</th>\n",
       "      <th>Basic_Selling_Price</th>\n",
       "      <th>Discount</th>\n",
       "      <th>Selling_Price</th>\n",
       "      <th>Tax</th>\n",
       "      <th>Cash _Received</th>\n",
       "      <th>Profit</th>\n",
       "      <th>Year</th>\n",
       "    </tr>\n",
       "  </thead>\n",
       "  <tbody>\n",
       "    <tr>\n",
       "      <th>0</th>\n",
       "      <td>Soft Drink</td>\n",
       "      <td>01-Jan-11</td>\n",
       "      <td>17</td>\n",
       "      <td>110</td>\n",
       "      <td>1870</td>\n",
       "      <td>120</td>\n",
       "      <td>1990</td>\n",
       "      <td>2587</td>\n",
       "      <td>129.35</td>\n",
       "      <td>2457.65</td>\n",
       "      <td>417.8005</td>\n",
       "      <td>2875.4505</td>\n",
       "      <td>467.65</td>\n",
       "      <td>2011</td>\n",
       "    </tr>\n",
       "    <tr>\n",
       "      <th>1</th>\n",
       "      <td>Hot Wings</td>\n",
       "      <td>01-Jan-11</td>\n",
       "      <td>3</td>\n",
       "      <td>390</td>\n",
       "      <td>1170</td>\n",
       "      <td>120</td>\n",
       "      <td>1290</td>\n",
       "      <td>1677</td>\n",
       "      <td>83.85</td>\n",
       "      <td>1593.15</td>\n",
       "      <td>270.8355</td>\n",
       "      <td>1863.9855</td>\n",
       "      <td>303.15</td>\n",
       "      <td>2011</td>\n",
       "    </tr>\n",
       "    <tr>\n",
       "      <th>2</th>\n",
       "      <td>Pizza Twister</td>\n",
       "      <td>01-Jan-11</td>\n",
       "      <td>8</td>\n",
       "      <td>350</td>\n",
       "      <td>2800</td>\n",
       "      <td>100</td>\n",
       "      <td>2900</td>\n",
       "      <td>3770</td>\n",
       "      <td>0.00</td>\n",
       "      <td>3770.00</td>\n",
       "      <td>640.9000</td>\n",
       "      <td>4410.9000</td>\n",
       "      <td>870.00</td>\n",
       "      <td>2011</td>\n",
       "    </tr>\n",
       "    <tr>\n",
       "      <th>3</th>\n",
       "      <td>Hot Wings</td>\n",
       "      <td>01-Jan-11</td>\n",
       "      <td>2</td>\n",
       "      <td>390</td>\n",
       "      <td>780</td>\n",
       "      <td>120</td>\n",
       "      <td>900</td>\n",
       "      <td>1170</td>\n",
       "      <td>0.00</td>\n",
       "      <td>1170.00</td>\n",
       "      <td>198.9000</td>\n",
       "      <td>1368.9000</td>\n",
       "      <td>270.00</td>\n",
       "      <td>2011</td>\n",
       "    </tr>\n",
       "    <tr>\n",
       "      <th>4</th>\n",
       "      <td>Xtreme Box</td>\n",
       "      <td>01-Jan-11</td>\n",
       "      <td>4</td>\n",
       "      <td>1050</td>\n",
       "      <td>4200</td>\n",
       "      <td>100</td>\n",
       "      <td>4300</td>\n",
       "      <td>5590</td>\n",
       "      <td>0.00</td>\n",
       "      <td>5590.00</td>\n",
       "      <td>950.3000</td>\n",
       "      <td>6540.3000</td>\n",
       "      <td>1290.00</td>\n",
       "      <td>2011</td>\n",
       "    </tr>\n",
       "  </tbody>\n",
       "</table>\n",
       "</div>"
      ],
      "text/plain": [
       "            Item       Date  Quantity  Unit_Cost  Basic_Cost   Delivery_Cost  \\\n",
       "0     Soft Drink  01-Jan-11        17        110         1870            120   \n",
       "1      Hot Wings  01-Jan-11         3        390         1170            120   \n",
       "2  Pizza Twister  01-Jan-11         8        350         2800            100   \n",
       "3      Hot Wings  01-Jan-11         2        390          780            120   \n",
       "4     Xtreme Box  01-Jan-11         4       1050         4200            100   \n",
       "\n",
       "   Net_Cost   Basic_Selling_Price  Discount  Selling_Price       Tax  \\\n",
       "0       1990                 2587    129.35        2457.65  417.8005   \n",
       "1       1290                 1677     83.85        1593.15  270.8355   \n",
       "2       2900                 3770      0.00        3770.00  640.9000   \n",
       "3        900                 1170      0.00        1170.00  198.9000   \n",
       "4       4300                 5590      0.00        5590.00  950.3000   \n",
       "\n",
       "   Cash _Received   Profit  Year  \n",
       "0       2875.4505   467.65  2011  \n",
       "1       1863.9855   303.15  2011  \n",
       "2       4410.9000   870.00  2011  \n",
       "3       1368.9000   270.00  2011  \n",
       "4       6540.3000  1290.00  2011  "
      ]
     },
     "execution_count": 38,
     "metadata": {},
     "output_type": "execute_result"
    }
   ],
   "source": [
    "df['Year']=pd.DatetimeIndex(df['Date']).year\n",
    "df.head()"
   ]
  },
  {
   "cell_type": "code",
   "execution_count": 39,
   "id": "6c2fcfec",
   "metadata": {},
   "outputs": [
    {
     "data": {
      "text/html": [
       "<div>\n",
       "<style scoped>\n",
       "    .dataframe tbody tr th:only-of-type {\n",
       "        vertical-align: middle;\n",
       "    }\n",
       "\n",
       "    .dataframe tbody tr th {\n",
       "        vertical-align: top;\n",
       "    }\n",
       "\n",
       "    .dataframe thead th {\n",
       "        text-align: right;\n",
       "    }\n",
       "</style>\n",
       "<table border=\"1\" class=\"dataframe\">\n",
       "  <thead>\n",
       "    <tr style=\"text-align: right;\">\n",
       "      <th></th>\n",
       "      <th>Item</th>\n",
       "      <th>Date</th>\n",
       "      <th>Quantity</th>\n",
       "      <th>Unit_Cost</th>\n",
       "      <th>Basic_Cost</th>\n",
       "      <th>Delivery_Cost</th>\n",
       "      <th>Net_Cost</th>\n",
       "      <th>Basic_Selling_Price</th>\n",
       "      <th>Discount</th>\n",
       "      <th>Selling_Price</th>\n",
       "      <th>Tax</th>\n",
       "      <th>Cash _Received</th>\n",
       "      <th>Profit</th>\n",
       "      <th>Year</th>\n",
       "      <th>Month</th>\n",
       "    </tr>\n",
       "  </thead>\n",
       "  <tbody>\n",
       "    <tr>\n",
       "      <th>0</th>\n",
       "      <td>Soft Drink</td>\n",
       "      <td>01-Jan-11</td>\n",
       "      <td>17</td>\n",
       "      <td>110</td>\n",
       "      <td>1870</td>\n",
       "      <td>120</td>\n",
       "      <td>1990</td>\n",
       "      <td>2587</td>\n",
       "      <td>129.35</td>\n",
       "      <td>2457.65</td>\n",
       "      <td>417.8005</td>\n",
       "      <td>2875.4505</td>\n",
       "      <td>467.65</td>\n",
       "      <td>2011</td>\n",
       "      <td>1</td>\n",
       "    </tr>\n",
       "    <tr>\n",
       "      <th>1</th>\n",
       "      <td>Hot Wings</td>\n",
       "      <td>01-Jan-11</td>\n",
       "      <td>3</td>\n",
       "      <td>390</td>\n",
       "      <td>1170</td>\n",
       "      <td>120</td>\n",
       "      <td>1290</td>\n",
       "      <td>1677</td>\n",
       "      <td>83.85</td>\n",
       "      <td>1593.15</td>\n",
       "      <td>270.8355</td>\n",
       "      <td>1863.9855</td>\n",
       "      <td>303.15</td>\n",
       "      <td>2011</td>\n",
       "      <td>1</td>\n",
       "    </tr>\n",
       "    <tr>\n",
       "      <th>2</th>\n",
       "      <td>Pizza Twister</td>\n",
       "      <td>01-Jan-11</td>\n",
       "      <td>8</td>\n",
       "      <td>350</td>\n",
       "      <td>2800</td>\n",
       "      <td>100</td>\n",
       "      <td>2900</td>\n",
       "      <td>3770</td>\n",
       "      <td>0.00</td>\n",
       "      <td>3770.00</td>\n",
       "      <td>640.9000</td>\n",
       "      <td>4410.9000</td>\n",
       "      <td>870.00</td>\n",
       "      <td>2011</td>\n",
       "      <td>1</td>\n",
       "    </tr>\n",
       "    <tr>\n",
       "      <th>3</th>\n",
       "      <td>Hot Wings</td>\n",
       "      <td>01-Jan-11</td>\n",
       "      <td>2</td>\n",
       "      <td>390</td>\n",
       "      <td>780</td>\n",
       "      <td>120</td>\n",
       "      <td>900</td>\n",
       "      <td>1170</td>\n",
       "      <td>0.00</td>\n",
       "      <td>1170.00</td>\n",
       "      <td>198.9000</td>\n",
       "      <td>1368.9000</td>\n",
       "      <td>270.00</td>\n",
       "      <td>2011</td>\n",
       "      <td>1</td>\n",
       "    </tr>\n",
       "    <tr>\n",
       "      <th>4</th>\n",
       "      <td>Xtreme Box</td>\n",
       "      <td>01-Jan-11</td>\n",
       "      <td>4</td>\n",
       "      <td>1050</td>\n",
       "      <td>4200</td>\n",
       "      <td>100</td>\n",
       "      <td>4300</td>\n",
       "      <td>5590</td>\n",
       "      <td>0.00</td>\n",
       "      <td>5590.00</td>\n",
       "      <td>950.3000</td>\n",
       "      <td>6540.3000</td>\n",
       "      <td>1290.00</td>\n",
       "      <td>2011</td>\n",
       "      <td>1</td>\n",
       "    </tr>\n",
       "  </tbody>\n",
       "</table>\n",
       "</div>"
      ],
      "text/plain": [
       "            Item       Date  Quantity  Unit_Cost  Basic_Cost   Delivery_Cost  \\\n",
       "0     Soft Drink  01-Jan-11        17        110         1870            120   \n",
       "1      Hot Wings  01-Jan-11         3        390         1170            120   \n",
       "2  Pizza Twister  01-Jan-11         8        350         2800            100   \n",
       "3      Hot Wings  01-Jan-11         2        390          780            120   \n",
       "4     Xtreme Box  01-Jan-11         4       1050         4200            100   \n",
       "\n",
       "   Net_Cost   Basic_Selling_Price  Discount  Selling_Price       Tax  \\\n",
       "0       1990                 2587    129.35        2457.65  417.8005   \n",
       "1       1290                 1677     83.85        1593.15  270.8355   \n",
       "2       2900                 3770      0.00        3770.00  640.9000   \n",
       "3        900                 1170      0.00        1170.00  198.9000   \n",
       "4       4300                 5590      0.00        5590.00  950.3000   \n",
       "\n",
       "   Cash _Received   Profit  Year  Month  \n",
       "0       2875.4505   467.65  2011      1  \n",
       "1       1863.9855   303.15  2011      1  \n",
       "2       4410.9000   870.00  2011      1  \n",
       "3       1368.9000   270.00  2011      1  \n",
       "4       6540.3000  1290.00  2011      1  "
      ]
     },
     "execution_count": 39,
     "metadata": {},
     "output_type": "execute_result"
    }
   ],
   "source": [
    "df['Month']=pd.DatetimeIndex(df['Date']).month\n",
    "df.head()"
   ]
  },
  {
   "cell_type": "code",
   "execution_count": 42,
   "id": "ac7852bd",
   "metadata": {},
   "outputs": [
    {
     "data": {
      "text/html": [
       "<div>\n",
       "<style scoped>\n",
       "    .dataframe tbody tr th:only-of-type {\n",
       "        vertical-align: middle;\n",
       "    }\n",
       "\n",
       "    .dataframe tbody tr th {\n",
       "        vertical-align: top;\n",
       "    }\n",
       "\n",
       "    .dataframe thead th {\n",
       "        text-align: right;\n",
       "    }\n",
       "</style>\n",
       "<table border=\"1\" class=\"dataframe\">\n",
       "  <thead>\n",
       "    <tr style=\"text-align: right;\">\n",
       "      <th></th>\n",
       "      <th>Item</th>\n",
       "      <th>Quantity</th>\n",
       "      <th>Unit_Cost</th>\n",
       "      <th>Basic_Cost</th>\n",
       "      <th>Delivery_Cost</th>\n",
       "      <th>Net_Cost</th>\n",
       "      <th>Basic_Selling_Price</th>\n",
       "      <th>Discount</th>\n",
       "      <th>Selling_Price</th>\n",
       "      <th>Tax</th>\n",
       "      <th>Cash _Received</th>\n",
       "      <th>Profit</th>\n",
       "      <th>Year</th>\n",
       "      <th>Month</th>\n",
       "    </tr>\n",
       "  </thead>\n",
       "  <tbody>\n",
       "    <tr>\n",
       "      <th>0</th>\n",
       "      <td>Soft Drink</td>\n",
       "      <td>17</td>\n",
       "      <td>110</td>\n",
       "      <td>1870</td>\n",
       "      <td>120</td>\n",
       "      <td>1990</td>\n",
       "      <td>2587</td>\n",
       "      <td>129.35</td>\n",
       "      <td>2457.65</td>\n",
       "      <td>417.8005</td>\n",
       "      <td>2875.4505</td>\n",
       "      <td>467.65</td>\n",
       "      <td>2011</td>\n",
       "      <td>1</td>\n",
       "    </tr>\n",
       "    <tr>\n",
       "      <th>1</th>\n",
       "      <td>Hot Wings</td>\n",
       "      <td>3</td>\n",
       "      <td>390</td>\n",
       "      <td>1170</td>\n",
       "      <td>120</td>\n",
       "      <td>1290</td>\n",
       "      <td>1677</td>\n",
       "      <td>83.85</td>\n",
       "      <td>1593.15</td>\n",
       "      <td>270.8355</td>\n",
       "      <td>1863.9855</td>\n",
       "      <td>303.15</td>\n",
       "      <td>2011</td>\n",
       "      <td>1</td>\n",
       "    </tr>\n",
       "    <tr>\n",
       "      <th>2</th>\n",
       "      <td>Pizza Twister</td>\n",
       "      <td>8</td>\n",
       "      <td>350</td>\n",
       "      <td>2800</td>\n",
       "      <td>100</td>\n",
       "      <td>2900</td>\n",
       "      <td>3770</td>\n",
       "      <td>0.00</td>\n",
       "      <td>3770.00</td>\n",
       "      <td>640.9000</td>\n",
       "      <td>4410.9000</td>\n",
       "      <td>870.00</td>\n",
       "      <td>2011</td>\n",
       "      <td>1</td>\n",
       "    </tr>\n",
       "    <tr>\n",
       "      <th>3</th>\n",
       "      <td>Hot Wings</td>\n",
       "      <td>2</td>\n",
       "      <td>390</td>\n",
       "      <td>780</td>\n",
       "      <td>120</td>\n",
       "      <td>900</td>\n",
       "      <td>1170</td>\n",
       "      <td>0.00</td>\n",
       "      <td>1170.00</td>\n",
       "      <td>198.9000</td>\n",
       "      <td>1368.9000</td>\n",
       "      <td>270.00</td>\n",
       "      <td>2011</td>\n",
       "      <td>1</td>\n",
       "    </tr>\n",
       "    <tr>\n",
       "      <th>4</th>\n",
       "      <td>Xtreme Box</td>\n",
       "      <td>4</td>\n",
       "      <td>1050</td>\n",
       "      <td>4200</td>\n",
       "      <td>100</td>\n",
       "      <td>4300</td>\n",
       "      <td>5590</td>\n",
       "      <td>0.00</td>\n",
       "      <td>5590.00</td>\n",
       "      <td>950.3000</td>\n",
       "      <td>6540.3000</td>\n",
       "      <td>1290.00</td>\n",
       "      <td>2011</td>\n",
       "      <td>1</td>\n",
       "    </tr>\n",
       "  </tbody>\n",
       "</table>\n",
       "</div>"
      ],
      "text/plain": [
       "            Item  Quantity  Unit_Cost  Basic_Cost   Delivery_Cost  Net_Cost   \\\n",
       "0     Soft Drink        17        110         1870            120       1990   \n",
       "1      Hot Wings         3        390         1170            120       1290   \n",
       "2  Pizza Twister         8        350         2800            100       2900   \n",
       "3      Hot Wings         2        390          780            120        900   \n",
       "4     Xtreme Box         4       1050         4200            100       4300   \n",
       "\n",
       "   Basic_Selling_Price  Discount  Selling_Price       Tax  Cash _Received  \\\n",
       "0                 2587    129.35        2457.65  417.8005       2875.4505   \n",
       "1                 1677     83.85        1593.15  270.8355       1863.9855   \n",
       "2                 3770      0.00        3770.00  640.9000       4410.9000   \n",
       "3                 1170      0.00        1170.00  198.9000       1368.9000   \n",
       "4                 5590      0.00        5590.00  950.3000       6540.3000   \n",
       "\n",
       "    Profit  Year  Month  \n",
       "0   467.65  2011      1  \n",
       "1   303.15  2011      1  \n",
       "2   870.00  2011      1  \n",
       "3   270.00  2011      1  \n",
       "4  1290.00  2011      1  "
      ]
     },
     "execution_count": 42,
     "metadata": {},
     "output_type": "execute_result"
    }
   ],
   "source": [
    "df.drop(['Date'],axis=1,inplace=True)\n",
    "df.head()"
   ]
  },
  {
   "cell_type": "code",
   "execution_count": 43,
   "id": "71857a2e",
   "metadata": {},
   "outputs": [
    {
     "data": {
      "text/plain": [
       "array([2011, 2012, 2013], dtype=int64)"
      ]
     },
     "execution_count": 43,
     "metadata": {},
     "output_type": "execute_result"
    }
   ],
   "source": [
    "df['Year'].unique()"
   ]
  },
  {
   "cell_type": "code",
   "execution_count": 44,
   "id": "ba137e19",
   "metadata": {},
   "outputs": [],
   "source": [
    "df['Tax']=df['Tax'].apply(lambda x: round(x,2))"
   ]
  },
  {
   "cell_type": "code",
   "execution_count": 45,
   "id": "656dbe8c",
   "metadata": {},
   "outputs": [],
   "source": [
    "df['Cash _Received']=df['Cash _Received'].apply(lambda x: round(x,2))"
   ]
  },
  {
   "cell_type": "code",
   "execution_count": 46,
   "id": "6fcb7078",
   "metadata": {},
   "outputs": [
    {
     "data": {
      "text/html": [
       "<div>\n",
       "<style scoped>\n",
       "    .dataframe tbody tr th:only-of-type {\n",
       "        vertical-align: middle;\n",
       "    }\n",
       "\n",
       "    .dataframe tbody tr th {\n",
       "        vertical-align: top;\n",
       "    }\n",
       "\n",
       "    .dataframe thead th {\n",
       "        text-align: right;\n",
       "    }\n",
       "</style>\n",
       "<table border=\"1\" class=\"dataframe\">\n",
       "  <thead>\n",
       "    <tr style=\"text-align: right;\">\n",
       "      <th></th>\n",
       "      <th>Item</th>\n",
       "      <th>Quantity</th>\n",
       "      <th>Unit_Cost</th>\n",
       "      <th>Basic_Cost</th>\n",
       "      <th>Delivery_Cost</th>\n",
       "      <th>Net_Cost</th>\n",
       "      <th>Basic_Selling_Price</th>\n",
       "      <th>Discount</th>\n",
       "      <th>Selling_Price</th>\n",
       "      <th>Tax</th>\n",
       "      <th>Cash _Received</th>\n",
       "      <th>Profit</th>\n",
       "      <th>Year</th>\n",
       "      <th>Month</th>\n",
       "    </tr>\n",
       "  </thead>\n",
       "  <tbody>\n",
       "    <tr>\n",
       "      <th>0</th>\n",
       "      <td>Soft Drink</td>\n",
       "      <td>17</td>\n",
       "      <td>110</td>\n",
       "      <td>1870</td>\n",
       "      <td>120</td>\n",
       "      <td>1990</td>\n",
       "      <td>2587</td>\n",
       "      <td>129.35</td>\n",
       "      <td>2457.65</td>\n",
       "      <td>417.80</td>\n",
       "      <td>2875.45</td>\n",
       "      <td>467.65</td>\n",
       "      <td>2011</td>\n",
       "      <td>1</td>\n",
       "    </tr>\n",
       "    <tr>\n",
       "      <th>1</th>\n",
       "      <td>Hot Wings</td>\n",
       "      <td>3</td>\n",
       "      <td>390</td>\n",
       "      <td>1170</td>\n",
       "      <td>120</td>\n",
       "      <td>1290</td>\n",
       "      <td>1677</td>\n",
       "      <td>83.85</td>\n",
       "      <td>1593.15</td>\n",
       "      <td>270.84</td>\n",
       "      <td>1863.99</td>\n",
       "      <td>303.15</td>\n",
       "      <td>2011</td>\n",
       "      <td>1</td>\n",
       "    </tr>\n",
       "    <tr>\n",
       "      <th>2</th>\n",
       "      <td>Pizza Twister</td>\n",
       "      <td>8</td>\n",
       "      <td>350</td>\n",
       "      <td>2800</td>\n",
       "      <td>100</td>\n",
       "      <td>2900</td>\n",
       "      <td>3770</td>\n",
       "      <td>0.00</td>\n",
       "      <td>3770.00</td>\n",
       "      <td>640.90</td>\n",
       "      <td>4410.90</td>\n",
       "      <td>870.00</td>\n",
       "      <td>2011</td>\n",
       "      <td>1</td>\n",
       "    </tr>\n",
       "    <tr>\n",
       "      <th>3</th>\n",
       "      <td>Hot Wings</td>\n",
       "      <td>2</td>\n",
       "      <td>390</td>\n",
       "      <td>780</td>\n",
       "      <td>120</td>\n",
       "      <td>900</td>\n",
       "      <td>1170</td>\n",
       "      <td>0.00</td>\n",
       "      <td>1170.00</td>\n",
       "      <td>198.90</td>\n",
       "      <td>1368.90</td>\n",
       "      <td>270.00</td>\n",
       "      <td>2011</td>\n",
       "      <td>1</td>\n",
       "    </tr>\n",
       "    <tr>\n",
       "      <th>4</th>\n",
       "      <td>Xtreme Box</td>\n",
       "      <td>4</td>\n",
       "      <td>1050</td>\n",
       "      <td>4200</td>\n",
       "      <td>100</td>\n",
       "      <td>4300</td>\n",
       "      <td>5590</td>\n",
       "      <td>0.00</td>\n",
       "      <td>5590.00</td>\n",
       "      <td>950.30</td>\n",
       "      <td>6540.30</td>\n",
       "      <td>1290.00</td>\n",
       "      <td>2011</td>\n",
       "      <td>1</td>\n",
       "    </tr>\n",
       "  </tbody>\n",
       "</table>\n",
       "</div>"
      ],
      "text/plain": [
       "            Item  Quantity  Unit_Cost  Basic_Cost   Delivery_Cost  Net_Cost   \\\n",
       "0     Soft Drink        17        110         1870            120       1990   \n",
       "1      Hot Wings         3        390         1170            120       1290   \n",
       "2  Pizza Twister         8        350         2800            100       2900   \n",
       "3      Hot Wings         2        390          780            120        900   \n",
       "4     Xtreme Box         4       1050         4200            100       4300   \n",
       "\n",
       "   Basic_Selling_Price  Discount  Selling_Price     Tax  Cash _Received  \\\n",
       "0                 2587    129.35        2457.65  417.80         2875.45   \n",
       "1                 1677     83.85        1593.15  270.84         1863.99   \n",
       "2                 3770      0.00        3770.00  640.90         4410.90   \n",
       "3                 1170      0.00        1170.00  198.90         1368.90   \n",
       "4                 5590      0.00        5590.00  950.30         6540.30   \n",
       "\n",
       "    Profit  Year  Month  \n",
       "0   467.65  2011      1  \n",
       "1   303.15  2011      1  \n",
       "2   870.00  2011      1  \n",
       "3   270.00  2011      1  \n",
       "4  1290.00  2011      1  "
      ]
     },
     "execution_count": 46,
     "metadata": {},
     "output_type": "execute_result"
    }
   ],
   "source": [
    "df.head()"
   ]
  },
  {
   "cell_type": "code",
   "execution_count": 49,
   "id": "fbcd488f",
   "metadata": {},
   "outputs": [
    {
     "data": {
      "text/plain": [
       "Item\n",
       "Arabian Rice          3776\n",
       "Boneless Box          1519\n",
       "Bucket of Fries       6815\n",
       "Chicky Meal           5280\n",
       "Duo Box               3017\n",
       "Family Festival       2257\n",
       "Hot Wings             5311\n",
       "Mid Night Deal        8325\n",
       "Mineral Water         3017\n",
       "Nuggests              4537\n",
       "Pizza Twister         3043\n",
       "Soft Drink            3030\n",
       "Super Spicy Burger    2264\n",
       "Value Box             1512\n",
       "Value Burger          1511\n",
       "Xtreme Box            5290\n",
       "Zinger Burger         3023\n",
       "Zinger Combo          8325\n",
       "chicken Piece         3778\n",
       "dtype: int64"
      ]
     },
     "execution_count": 49,
     "metadata": {},
     "output_type": "execute_result"
    }
   ],
   "source": [
    "item_des=df.groupby('Item').size()\n",
    "item_des"
   ]
  },
  {
   "cell_type": "code",
   "execution_count": 68,
   "id": "88fabc8b",
   "metadata": {},
   "outputs": [
    {
     "data": {
      "text/plain": [
       "Text(0.5, 1.0, 'Item Count')"
      ]
     },
     "execution_count": 68,
     "metadata": {},
     "output_type": "execute_result"
    },
    {
     "data": {
      "image/png": "[encoded data removed]",
      "text/plain": [
       "<Figure size 720x720 with 1 Axes>"
      ]
     },
     "metadata": {
      "needs_background": "light"
     },
     "output_type": "display_data"
    }
   ],
   "source": [
    "plt.figure(figsize=(10,10))\n",
    "item_des.plot(kind=\"bar\")\n",
    "plt.xticks(rotation=90)\n",
    "plt.title('Item Count')\n"
   ]
  },
  {
   "cell_type": "code",
   "execution_count": 60,
   "id": "950a94fc",
   "metadata": {},
   "outputs": [
    {
     "data": {
      "text/plain": [
       "Year\n",
       "2011    25669\n",
       "2012    23980\n",
       "2013    25981\n",
       "Name: Item, dtype: int64"
      ]
     },
     "execution_count": 60,
     "metadata": {},
     "output_type": "execute_result"
    }
   ],
   "source": [
    "year_item_des=df.groupby(['Year'])['Item'].count()\n",
    "year_item_des"
   ]
  },
  {
   "cell_type": "code",
   "execution_count": 67,
   "id": "b686a878",
   "metadata": {},
   "outputs": [
    {
     "data": {
      "text/plain": [
       "<AxesSubplot:xlabel='Year'>"
      ]
     },
     "execution_count": 67,
     "metadata": {},
     "output_type": "execute_result"
    },
    {
     "data": {
      "image/png": "[encoded data removed]",
      "text/plain": [
       "<Figure size 432x288 with 1 Axes>"
      ]
     },
     "metadata": {
      "needs_background": "light"
     },
     "output_type": "display_data"
    }
   ],
   "source": [
    "year_item_des.plot(kind=\"bar\")"
   ]
  },
  {
   "cell_type": "code",
   "execution_count": 76,
   "id": "fa5881de",
   "metadata": {},
   "outputs": [
    {
     "name": "stdout",
     "output_type": "stream",
     "text": [
      "Item\n",
      "Mid Night Deal     8325\n",
      "Zinger Combo       8325\n",
      "Bucket of Fries    6815\n",
      "Hot Wings          5311\n",
      "Xtreme Box         5290\n",
      "dtype: int64\n"
     ]
    }
   ],
   "source": [
    "top5=item_des.nlargest(5)\n",
    "print(top5)\n",
    "others=item_des[6:19]"
   ]
  },
  {
   "cell_type": "code",
   "execution_count": 113,
   "id": "f046532b",
   "metadata": {},
   "outputs": [
    {
     "data": {
      "text/plain": [
       "Text(0.5, 1.0, 'Prominent Items')"
      ]
     },
     "execution_count": 113,
     "metadata": {},
     "output_type": "execute_result"
    },
    {
     "data": {
      "image/png": "[encoded data removed]",
      "text/plain": [
       "<Figure size 864x864 with 1 Axes>"
      ]
     },
     "metadata": {},
     "output_type": "display_data"
    }
   ],
   "source": [
    "pie=pd.DataFrame(top5)\n",
    "\n",
    "pie.plot(kind='pie', subplots=True, figsize=(12,12), startangle=90, autopct='%1.1f%%')\n",
    "plt.title(\"Prominent Items\")"
   ]
  },
  {
   "cell_type": "code",
   "execution_count": 148,
   "id": "713df955",
   "metadata": {},
   "outputs": [
    {
     "name": "stdout",
     "output_type": "stream",
     "text": [
      "Item\n",
      "Arabian Rice          1285\n",
      "Boneless Box           519\n",
      "Bucket of Fries       2316\n",
      "Chicky Meal           1785\n",
      "Duo Box               1021\n",
      "Family Festival        759\n",
      "Hot Wings             1808\n",
      "Mid Night Deal        2824\n",
      "Mineral Water         1024\n",
      "Nuggests              1534\n",
      "Pizza Twister         1037\n",
      "Soft Drink            1027\n",
      "Super Spicy Burger     768\n",
      "Value Box              510\n",
      "Value Burger           515\n",
      "Xtreme Box            1786\n",
      "Zinger Burger         1027\n",
      "Zinger Combo          2839\n",
      "chicken Piece         1285\n",
      "Name: Quantity, dtype: int64\n"
     ]
    },
    {
     "data": {
      "text/plain": [
       "<AxesSubplot:title={'center':'Sale2011'}, xlabel='Item'>"
      ]
     },
     "execution_count": 148,
     "metadata": {},
     "output_type": "execute_result"
    },
    {
     "data": {
      "image/png": "[encoded data removed]",
      "text/plain": [
       "<Figure size 864x864 with 1 Axes>"
      ]
     },
     "metadata": {
      "needs_background": "light"
     },
     "output_type": "display_data"
    }
   ],
   "source": [
    "sale_2011=df[df[\"Year\"]==2011].groupby(['Item'])['Quantity'].count()\n",
    "print(sale_2011)\n",
    "\n",
    "pd.DataFrame(sale_2011).plot(kind=\"bar\", title=\"Sale2011\", figsize=(12,12))"
   ]
  },
  {
   "cell_type": "code",
   "execution_count": 146,
   "id": "c4afd8f5",
   "metadata": {},
   "outputs": [
    {
     "name": "stdout",
     "output_type": "stream",
     "text": [
      "Item\n",
      "Arabian Rice          1200\n",
      "Boneless Box           480\n",
      "Bucket of Fries       2159\n",
      "Chicky Meal           1677\n",
      "Duo Box                958\n",
      "Family Festival        719\n",
      "Hot Wings             1679\n",
      "Mid Night Deal        2635\n",
      "Mineral Water          958\n",
      "Nuggests              1440\n",
      "Pizza Twister          962\n",
      "Soft Drink             961\n",
      "Super Spicy Burger     719\n",
      "Value Box              480\n",
      "Value Burger           480\n",
      "Xtreme Box            1679\n",
      "Zinger Burger          959\n",
      "Zinger Combo          2636\n",
      "chicken Piece         1199\n",
      "Name: Quantity, dtype: int64\n"
     ]
    },
    {
     "data": {
      "text/plain": [
       "<AxesSubplot:title={'center':'Sale2012'}, xlabel='Item'>"
      ]
     },
     "execution_count": 146,
     "metadata": {},
     "output_type": "execute_result"
    },
    {
     "data": {
      "image/png": "[encoded data removed]",
      "text/plain": [
       "<Figure size 864x864 with 1 Axes>"
      ]
     },
     "metadata": {
      "needs_background": "light"
     },
     "output_type": "display_data"
    }
   ],
   "source": [
    "sale_2012=df[df[\"Year\"]==2012].groupby(['Item'])['Quantity'].count()\n",
    "print(sale_2012)\n",
    "\n",
    "pd.DataFrame(sale_2012).plot(kind=\"bar\", title=\"Sale2012\", figsize=(12,12))"
   ]
  },
  {
   "cell_type": "code",
   "execution_count": 147,
   "id": "b8e2befa",
   "metadata": {},
   "outputs": [
    {
     "name": "stdout",
     "output_type": "stream",
     "text": [
      "Item\n",
      "Arabian Rice          1291\n",
      "Boneless Box           520\n",
      "Bucket of Fries       2340\n",
      "Chicky Meal           1818\n",
      "Duo Box               1038\n",
      "Family Festival        779\n",
      "Hot Wings             1824\n",
      "Mid Night Deal        2866\n",
      "Mineral Water         1035\n",
      "Nuggests              1563\n",
      "Pizza Twister         1044\n",
      "Soft Drink            1042\n",
      "Super Spicy Burger     777\n",
      "Value Box              522\n",
      "Value Burger           516\n",
      "Xtreme Box            1825\n",
      "Zinger Burger         1037\n",
      "Zinger Combo          2850\n",
      "chicken Piece         1294\n",
      "Name: Quantity, dtype: int64\n"
     ]
    },
    {
     "data": {
      "image/png": "[encoded data removed]",
      "text/plain": [
       "<Figure size 864x864 with 1 Axes>"
      ]
     },
     "metadata": {
      "needs_background": "light"
     },
     "output_type": "display_data"
    }
   ],
   "source": [
    "sale_2013=df[df[\"Year\"]==2013].groupby(['Item'])['Quantity'].count()\n",
    "print(sale_2013)\n",
    "\n",
    "sale=pd.DataFrame(sale_2013).plot(kind=\"bar\", title=\"Sale2013\", figsize=(12,12))\n",
    "\n"
   ]
  },
  {
   "cell_type": "markdown",
   "id": "84f6f2b8",
   "metadata": {},
   "source": [
    "# Summary"
   ]
  },
  {
   "cell_type": "code",
   "execution_count": 151,
   "id": "b94a780f",
   "metadata": {},
   "outputs": [
    {
     "data": {
      "text/plain": [
       "<AxesSubplot:xlabel='Year'>"
      ]
     },
     "execution_count": 151,
     "metadata": {},
     "output_type": "execute_result"
    },
    {
     "data": {
      "image/png": "[encoded data removed]",
      "text/plain": [
       "<Figure size 432x288 with 1 Axes>"
      ]
     },
     "metadata": {
      "needs_background": "light"
     },
     "output_type": "display_data"
    }
   ],
   "source": [
    "#yearwise sale\n",
    "\n",
    "df.groupby(['Year'])['Quantity'].sum()\n",
    "df.groupby(['Year'])['Quantity'].sum().plot(kind=\"bar\")\n"
   ]
  },
  {
   "cell_type": "code",
   "execution_count": 152,
   "id": "a41facba",
   "metadata": {},
   "outputs": [
    {
     "data": {
      "text/plain": [
       "<AxesSubplot:xlabel='Year'>"
      ]
     },
     "execution_count": 152,
     "metadata": {},
     "output_type": "execute_result"
    },
    {
     "data": {
      "image/png": "[encoded data removed]",
      "text/plain": [
       "<Figure size 432x288 with 1 Axes>"
      ]
     },
     "metadata": {
      "needs_background": "light"
     },
     "output_type": "display_data"
    }
   ],
   "source": [
    "#yearwise profit\n",
    "\n",
    "df.groupby(['Year'])['Profit'].sum()\n",
    "df.groupby(['Year'])['Profit'].sum().plot(kind=\"bar\")\n"
   ]
  },
  {
   "cell_type": "code",
   "execution_count": 155,
   "id": "e7ac57f5",
   "metadata": {},
   "outputs": [
    {
     "name": "stdout",
     "output_type": "stream",
     "text": [
      "Total quantity sold in 3 years is  803923\n",
      "Total profit made in 3 years is  94916750.0\n"
     ]
    }
   ],
   "source": [
    "total_quantity=df[\"Quantity\"].sum()\n",
    "print(\"Total quantity sold in 3 years is \",total_quantity)\n",
    "total_profit=df[\"Profit\"].sum()\n",
    "print(\"Total profit made in 3 years is \",total_profit.round())"
   ]
  }
 ],
 "metadata": {
  "kernelspec": {
   "display_name": "Python 3 (ipykernel)",
   "language": "python",
   "name": "python3"
  },
  "language_info": {
   "codemirror_mode": {
    "name": "ipython",
    "version": 3
   },
   "file_extension": ".py",
   "mimetype": "text/x-python",
   "name": "python",
   "nbconvert_exporter": "python",
   "pygments_lexer": "ipython3",
   "version": "3.9.7"
  }
 },
 "nbformat": 4,
 "nbformat_minor": 5
}
